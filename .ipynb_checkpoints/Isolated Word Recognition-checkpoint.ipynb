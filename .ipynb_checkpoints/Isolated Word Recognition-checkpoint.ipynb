{
 "cells": [
  {
   "cell_type": "markdown",
   "metadata": {},
   "source": [
    "# Isolated Word Recognition"
   ]
  },
  {
   "cell_type": "code",
   "execution_count": 1,
   "metadata": {
    "collapsed": true
   },
   "outputs": [],
   "source": [
    "import librosa\n",
    "import os, sys\n",
    "import numpy as np\n",
    "import scipy\n",
    "import cPickle as pickle\n",
    "from sklearn.mixture import GaussianMixture"
   ]
  },
  {
   "cell_type": "markdown",
   "metadata": {},
   "source": [
    "## Import Audio Files"
   ]
  },
  {
   "cell_type": "code",
   "execution_count": 2,
   "metadata": {
    "collapsed": true
   },
   "outputs": [],
   "source": [
    "DATA_DIR = '/Users/alexwang/Google Drive/CompSci/speech-recognition/data'"
   ]
  },
  {
   "cell_type": "code",
   "execution_count": 46,
   "metadata": {},
   "outputs": [
    {
     "name": "stdout",
     "output_type": "stream",
     "text": [
      "['no/no1', 'no/no2', 'no/no3', 'no/no4', 'no/no5', 'no/no6', 'no/no7', 'no/no8', 'no/no9', 'no/no10', 'yes/yes1', 'yes/yes2', 'yes/yes3', 'yes/yes4', 'yes/yes5', 'yes/yes6', 'yes/yes7', 'yes/yes8', 'yes/yes9', 'yes/yes10']\n"
     ]
    }
   ],
   "source": [
    "def read_file_list(filename):\n",
    "    \"\"\"Read a text file with one item per line.\"\"\"\n",
    "    items = []\n",
    "    with open(filename, 'r') as f:\n",
    "        for line in f:\n",
    "            items.append(line.strip())\n",
    "    return items\n",
    "\n",
    "no_list_file_ids = read_file_list(os.path.join(DATA_DIR, 'nolist_train.txt'))\n",
    "yes_list_file_ids = read_file_list(os.path.join(DATA_DIR, 'yeslist_train.txt'))\n",
    "\n",
    "all_train_files = no_list_file_ids + yes_list_file_ids\n",
    "print all_train_files"
   ]
  },
  {
   "cell_type": "markdown",
   "metadata": {},
   "source": [
    "## Generate the MFCC vectors"
   ]
  },
  {
   "cell_type": "code",
   "execution_count": 4,
   "metadata": {
    "collapsed": true
   },
   "outputs": [],
   "source": [
    "def write_mfcc_file(filename, mfcc_array):\n",
    "    \"\"\"Write the mfcc vectors for that file\"\"\"\n",
    "    # Create the enclosing directory if needed.\n",
    "    directory = os.path.dirname(filename)\n",
    "    if directory and not os.path.exists(directory):\n",
    "        os.makedirs(directory)\n",
    "    with open(filename, \"wb\") as f:\n",
    "        pickle.dump(mfcc_array, f, pickle.HIGHEST_PROTOCOL)\n",
    "    return\n",
    "\n",
    "def read_mfcc_file(filename):\n",
    "    \"\"\"Read back an array of mfcc vectors.\"\"\"\n",
    "    with open(filename, \"rb\") as f:\n",
    "        mfcc_array = pickle.load(f)\n",
    "    return mfcc_array\n",
    "\n",
    "for file_id in all_train_files:\n",
    "    filename = os.path.join(DATA_DIR, 'mfcc', file_id + '.pkl')\n",
    "    y, sr = librosa.load(os.path.join(DATA_DIR, file_id + '.wav'), sr=None)\n",
    "    mfcc_file = librosa.feature.mfcc(y=y, sr=sr, n_mfcc=39).transpose() # I think n_mfcc specifies the dimension of the vector\n",
    "    write_mfcc_file(filename, mfcc_file)"
   ]
  },
  {
   "cell_type": "code",
   "execution_count": 89,
   "metadata": {
    "collapsed": true
   },
   "outputs": [],
   "source": [
    "# Initialize GMM\n",
    "gmm_no = GaussianMixture(covariance_type=\"diag\", n_components=39)\n",
    "gmm_yes = GaussianMixture(covariance_type=\"diag\", n_components=39)"
   ]
  },
  {
   "cell_type": "code",
   "execution_count": 90,
   "metadata": {
    "collapsed": true
   },
   "outputs": [],
   "source": [
    "# Train the \"no\" GMM\n",
    "for file_id in no_list_file_ids:\n",
    "    mfcc_array = read_mfcc_file(os.path.join(DATA_DIR, 'mfcc', file_id + '.pkl')) # read the computed pkl files\n",
    "    gmm_no.fit(mfcc_array)"
   ]
  },
  {
   "cell_type": "code",
   "execution_count": 91,
   "metadata": {
    "collapsed": true
   },
   "outputs": [],
   "source": [
    "# Train the \"yes\" GMM\n",
    "for file_id in yes_list_file_ids:\n",
    "    mfcc_array = read_mfcc_file(os.path.join(DATA_DIR, 'mfcc', file_id + '.pkl')) # read the computed pkl files\n",
    "    gmm_yes.fit(mfcc_array)"
   ]
  },
  {
   "cell_type": "markdown",
   "metadata": {},
   "source": [
    "## Making the Record Audio Interface"
   ]
  },
  {
   "cell_type": "code",
   "execution_count": 20,
   "metadata": {
    "collapsed": true
   },
   "outputs": [],
   "source": [
    "import pyaudio\n",
    "import wave\n",
    "from pydub import AudioSegment\n",
    "from pydub.playback import play"
   ]
  },
  {
   "cell_type": "code",
   "execution_count": 21,
   "metadata": {
    "collapsed": true
   },
   "outputs": [],
   "source": [
    "def detect_leading_silence(sound, silence_threshold=-50.0, chunk_size=10):\n",
    "    '''\n",
    "    sound is a pydub.AudioSegment\n",
    "    silence_threshold in dB\n",
    "    chunk_size in ms\n",
    "\n",
    "    iterate over chunks until you find the first one with sound\n",
    "    '''\n",
    "    trim_ms = 0\n",
    "    while sound[trim_ms:trim_ms+chunk_size].dBFS < silence_threshold:\n",
    "        trim_ms += chunk_size\n",
    "\n",
    "    return trim_ms\n",
    "\n",
    "def trim_audio():\n",
    "    sound = AudioSegment.from_file(\"data/output.wav\", format=\"wav\") # hard coding for now\n",
    "\n",
    "    start_trim = detect_leading_silence(sound)\n",
    "    end_trim = detect_leading_silence(sound.reverse())\n",
    "\n",
    "    duration = len(sound)    \n",
    "    trimmed_sound = sound[start_trim:duration-end_trim]\n",
    "    \n",
    "    trimmed_sound.export(\"data/output.wav\", format=\"wav\")\n",
    "    play(trimmed_sound)"
   ]
  },
  {
   "cell_type": "code",
   "execution_count": 22,
   "metadata": {
    "collapsed": true
   },
   "outputs": [],
   "source": [
    "def record_audio():\n",
    "    \"\"\"PyAudio example: Record a few seconds of audio and save to a WAVE file.\"\"\"\n",
    "    CHUNK = 1024\n",
    "    FORMAT = pyaudio.paInt16\n",
    "    CHANNELS = 2\n",
    "    RATE = 44100\n",
    "    RECORD_SECONDS = 3\n",
    "    WAVE_OUTPUT_FILENAME = \"data/output.wav\" # hard coding for now\n",
    "\n",
    "    p = pyaudio.PyAudio()\n",
    "\n",
    "    stream = p.open(format=FORMAT,\n",
    "                    channels=CHANNELS,\n",
    "                    rate=RATE,\n",
    "                    input=True,\n",
    "                    frames_per_buffer=CHUNK)\n",
    "\n",
    "    print \"* Listening...\"\n",
    "\n",
    "    frames = []\n",
    "\n",
    "    for i in range(0, int(RATE / CHUNK * RECORD_SECONDS)):\n",
    "        data = stream.read(CHUNK)\n",
    "        frames.append(data)\n",
    "\n",
    "    print \"* Done Listening\"\n",
    "\n",
    "    stream.stop_stream()\n",
    "    stream.close()\n",
    "    p.terminate()\n",
    "    \n",
    "    # Write the data to a wav file\n",
    "    wf = wave.open(WAVE_OUTPUT_FILENAME, 'wb')\n",
    "    wf.setnchannels(CHANNELS)\n",
    "    wf.setsampwidth(p.get_sample_size(FORMAT))\n",
    "    wf.setframerate(RATE)\n",
    "    wf.writeframes(b''.join(frames))\n",
    "    wf.close()"
   ]
  },
  {
   "cell_type": "markdown",
   "metadata": {},
   "source": [
    "## Recognition Demo"
   ]
  },
  {
   "cell_type": "code",
   "execution_count": 78,
   "metadata": {},
   "outputs": [
    {
     "name": "stdout",
     "output_type": "stream",
     "text": [
      "* Listening...\n",
      "* Done Listening\n",
      "I think you just said 'yes'.\n",
      "-7302.19219999\n",
      "-4851.83523586\n"
     ]
    }
   ],
   "source": [
    "def run_recognition_system_demo(directory):\n",
    "    file_id = 'output'\n",
    "    record_audio() # Make sure this function writes the output file before proceeding\n",
    "    trim_audio()\n",
    "    \n",
    "    y, sr = librosa.load(os.path.join(DATA_DIR, file_id + '.wav'), sr=None)\n",
    "    test_mfcc = librosa.feature.mfcc(y=y, sr=sr, n_mfcc=39).transpose()\n",
    "    \n",
    "    if gmm_no.score(test_mfcc) >= gmm_yes.score(test_mfcc):\n",
    "        print \"I think you just said 'no'.\"\n",
    "    else:\n",
    "        print \"I think you just said 'yes'.\"\n",
    "    \n",
    "    print gmm_no.score(test_mfcc)\n",
    "    print gmm_yes.score(test_mfcc)\n",
    "\n",
    "run_recognition_system_demo(DATA_DIR)"
   ]
  },
  {
   "cell_type": "markdown",
   "metadata": {},
   "source": [
    "## Testing the Accuracy of the Model"
   ]
  },
  {
   "cell_type": "code",
   "execution_count": 13,
   "metadata": {
    "collapsed": true
   },
   "outputs": [],
   "source": [
    "from sklearn.metrics import accuracy_score"
   ]
  },
  {
   "cell_type": "code",
   "execution_count": 68,
   "metadata": {},
   "outputs": [
    {
     "name": "stdout",
     "output_type": "stream",
     "text": [
      "['yes/yes10', 'yes/yes11', 'yes/yes12', 'yes/yes13', 'yes/yes14', 'yes/yes15', 'yes/yes16', 'yes/yes17', 'yes/yes18', 'yes/yes19']\n"
     ]
    }
   ],
   "source": [
    "no_list_test = read_file_list(os.path.join(DATA_DIR, 'nolist_test.txt'))\n",
    "yes_list_test = read_file_list(os.path.join(DATA_DIR, 'yeslist_test.txt'))\n",
    "print yes_list_test"
   ]
  },
  {
   "cell_type": "code",
   "execution_count": 69,
   "metadata": {
    "collapsed": true
   },
   "outputs": [],
   "source": [
    "def test_recognition_system(directory, file_id):\n",
    "    y, sr = librosa.load(os.path.join(DATA_DIR, file_id + '.wav'), sr=None)\n",
    "    test_mfcc = librosa.feature.mfcc(y=y, sr=sr, n_mfcc=39).transpose()\n",
    "    \n",
    "    if gmm_no.score(test_mfcc) >= gmm_yes.score(test_mfcc):\n",
    "#         print \"I think you just said 'no'.\"\n",
    "        return \"n\"\n",
    "    else:\n",
    "#         print \"I think you just said 'yes'.\"\n",
    "        return \"y\"\n",
    "    \n",
    "#     print gmm_no.score(test_mfcc)\n",
    "#     print gmm_yes.score(test_mfcc)\n",
    "\n",
    "    return"
   ]
  },
  {
   "cell_type": "code",
   "execution_count": 92,
   "metadata": {},
   "outputs": [
    {
     "data": {
      "text/plain": [
       "1.0"
      ]
     },
     "execution_count": 92,
     "metadata": {},
     "output_type": "execute_result"
    }
   ],
   "source": [
    "# Testing the accuracy of recognizing \"no\"\n",
    "predictions_no = []\n",
    "truth_labels = ['n']*10\n",
    "for filename in no_list_test:\n",
    "    predictions_no.append(test_recognition_system(DATA_DIR, filename))\n",
    "\n",
    "accuracy_score(truth_labels, predictions_no)"
   ]
  },
  {
   "cell_type": "code",
   "execution_count": 93,
   "metadata": {},
   "outputs": [
    {
     "data": {
      "text/plain": [
       "0.90000000000000002"
      ]
     },
     "execution_count": 93,
     "metadata": {},
     "output_type": "execute_result"
    }
   ],
   "source": [
    "# Testing the accuracy of recognizing \"yes\"\n",
    "predictions_yes = []\n",
    "truth_labels = ['y']*10\n",
    "for filename in yes_list_test:\n",
    "    predictions_yes.append(test_recognition_system(DATA_DIR, filename))\n",
    "\n",
    "accuracy_score(truth_labels, predictions_yes)"
   ]
  },
  {
   "cell_type": "code",
   "execution_count": null,
   "metadata": {
    "collapsed": true
   },
   "outputs": [],
   "source": []
  }
 ],
 "metadata": {
  "kernelspec": {
   "display_name": "Python 2",
   "language": "python",
   "name": "python2"
  },
  "language_info": {
   "codemirror_mode": {
    "name": "ipython",
    "version": 2
   },
   "file_extension": ".py",
   "mimetype": "text/x-python",
   "name": "python",
   "nbconvert_exporter": "python",
   "pygments_lexer": "ipython2",
   "version": "2.7.13"
  }
 },
 "nbformat": 4,
 "nbformat_minor": 2
}
